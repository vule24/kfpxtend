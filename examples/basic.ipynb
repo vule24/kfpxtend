{
 "cells": [
  {
   "cell_type": "code",
   "execution_count": 1,
   "metadata": {},
   "outputs": [],
   "source": [
    "# add your name here. Eg: yourname = 'vult5'\n",
    "yourname = 'vult5'"
   ]
  },
  {
   "cell_type": "markdown",
   "metadata": {},
   "source": [
    "# Example 1 - Simple pipeline"
   ]
  },
  {
   "cell_type": "code",
   "execution_count": 2,
   "metadata": {},
   "outputs": [],
   "source": [
    "import kfp\n",
    "from kfp import components, dsl\n",
    "from easykubeflow import Utils"
   ]
  },
  {
   "cell_type": "code",
   "execution_count": 3,
   "metadata": {},
   "outputs": [
    {
     "data": {
      "text/plain": [
       "<easykubeflow.utils.Utils at 0x7f7800716b00>"
      ]
     },
     "execution_count": 3,
     "metadata": {},
     "output_type": "execute_result"
    }
   ],
   "source": [
    "client = kfp.Client()\n",
    "Utils(client)"
   ]
  },
  {
   "cell_type": "code",
   "execution_count": 4,
   "metadata": {},
   "outputs": [],
   "source": [
    "experiment=f'{yourname}-Examples'\n",
    "run='Dummy'"
   ]
  },
  {
   "cell_type": "code",
   "execution_count": 5,
   "metadata": {},
   "outputs": [
    {
     "data": {
      "text/html": [
       "Experiment link <a href=\"/pipeline/#/experiments/details/49772a1f-2bc5-4593-90c7-2034a01577b1\" target=\"_blank\" >here</a>"
      ],
      "text/plain": [
       "<IPython.core.display.HTML object>"
      ]
     },
     "metadata": {},
     "output_type": "display_data"
    },
    {
     "data": {
      "text/plain": [
       "{'created_at': datetime.datetime(2020, 8, 11, 4, 5, 39, tzinfo=tzutc()),\n",
       " 'description': None,\n",
       " 'id': '49772a1f-2bc5-4593-90c7-2034a01577b1',\n",
       " 'name': 'vult5-Examples',\n",
       " 'resource_references': None,\n",
       " 'storage_state': None}"
      ]
     },
     "execution_count": 5,
     "metadata": {},
     "output_type": "execute_result"
    }
   ],
   "source": [
    "client.create_experiment(experiment)"
   ]
  },
  {
   "cell_type": "code",
   "execution_count": 6,
   "metadata": {},
   "outputs": [],
   "source": [
    "def print_op(message):\n",
    "    return dsl.ContainerOp(\n",
    "        name='Print message',\n",
    "        image='asia.gcr.io/vinid-data-science-np/vu-example/base:1.0.0',\n",
    "        command=['sh', '-c'],\n",
    "        arguments=[f'echo {message}']\n",
    "    )"
   ]
  },
  {
   "cell_type": "code",
   "execution_count": 7,
   "metadata": {},
   "outputs": [],
   "source": [
    "@dsl.pipeline(\n",
    "    name='Example',\n",
    "    description='Dummy example pipeline'\n",
    ")\n",
    "def pipeline(message):\n",
    "    print_op(message)"
   ]
  },
  {
   "cell_type": "code",
   "execution_count": 8,
   "metadata": {},
   "outputs": [
    {
     "data": {
      "text/html": [
       "Experiment link <a href=\"/pipeline/#/experiments/details/49772a1f-2bc5-4593-90c7-2034a01577b1\" target=\"_blank\" >here</a>"
      ],
      "text/plain": [
       "<IPython.core.display.HTML object>"
      ]
     },
     "metadata": {},
     "output_type": "display_data"
    },
    {
     "data": {
      "text/html": [
       "Run link <a href=\"/pipeline/#/runs/details/7525ae89-78df-4e2b-b4c3-31b3f899350c\" target=\"_blank\" >here</a>"
      ],
      "text/plain": [
       "<IPython.core.display.HTML object>"
      ]
     },
     "metadata": {},
     "output_type": "display_data"
    },
    {
     "name": "stdout",
     "output_type": "stream",
     "text": [
      "RunPipelineResult(run_id=7525ae89-78df-4e2b-b4c3-31b3f899350c)\n"
     ]
    }
   ],
   "source": [
    "run_result = client.create_run_from_pipeline_func(pipeline, \n",
    "                                                  arguments={'message':'This is example message'},\n",
    "                                                  run_name=run,\n",
    "                                                  experiment_name=experiment,\n",
    "                                                  namespace='vult5')\n",
    "print(run_result)"
   ]
  },
  {
   "cell_type": "code",
   "execution_count": 9,
   "metadata": {},
   "outputs": [
    {
     "data": {
      "text/plain": [
       "{}"
      ]
     },
     "execution_count": 9,
     "metadata": {},
     "output_type": "execute_result"
    }
   ],
   "source": [
    "client.runs.delete_run(run_result.run_id)"
   ]
  },
  {
   "cell_type": "markdown",
   "metadata": {},
   "source": [
    "# Example 2 - Serial"
   ]
  },
  {
   "cell_type": "code",
   "execution_count": 10,
   "metadata": {},
   "outputs": [],
   "source": [
    "import kfp\n",
    "from kfp import components, dsl\n",
    "from easykubeflow import Utils"
   ]
  },
  {
   "cell_type": "code",
   "execution_count": 11,
   "metadata": {},
   "outputs": [
    {
     "data": {
      "text/plain": [
       "<easykubeflow.utils.Utils at 0x7f77d963d2b0>"
      ]
     },
     "execution_count": 11,
     "metadata": {},
     "output_type": "execute_result"
    }
   ],
   "source": [
    "client = kfp.Client()\n",
    "Utils(client)"
   ]
  },
  {
   "cell_type": "code",
   "execution_count": 12,
   "metadata": {},
   "outputs": [],
   "source": [
    "experiment=f'{yourname}-Examples'\n",
    "run='Serial'"
   ]
  },
  {
   "cell_type": "code",
   "execution_count": 13,
   "metadata": {},
   "outputs": [
    {
     "data": {
      "text/html": [
       "Experiment link <a href=\"/pipeline/#/experiments/details/49772a1f-2bc5-4593-90c7-2034a01577b1\" target=\"_blank\" >here</a>"
      ],
      "text/plain": [
       "<IPython.core.display.HTML object>"
      ]
     },
     "metadata": {},
     "output_type": "display_data"
    },
    {
     "data": {
      "text/plain": [
       "{'created_at': datetime.datetime(2020, 8, 11, 4, 5, 39, tzinfo=tzutc()),\n",
       " 'description': None,\n",
       " 'id': '49772a1f-2bc5-4593-90c7-2034a01577b1',\n",
       " 'name': 'vult5-Examples',\n",
       " 'resource_references': None,\n",
       " 'storage_state': None}"
      ]
     },
     "execution_count": 13,
     "metadata": {},
     "output_type": "execute_result"
    }
   ],
   "source": [
    "client.create_experiment(experiment)"
   ]
  },
  {
   "cell_type": "code",
   "execution_count": 14,
   "metadata": {},
   "outputs": [],
   "source": [
    "def random(low, high):\n",
    "    return dsl.ContainerOp(\n",
    "        name='Generate random number between 0 and 1',\n",
    "        image='asia.gcr.io/vinid-data-science-np/vu-example/base:1.0.0',\n",
    "        command=['sh', '-c'],\n",
    "        arguments=[f\"\"\"python3 -c \"import random; result = random.randint({low},{high}); print(result)\" | tee /tmp/output\"\"\"],\n",
    "        file_outputs={'output': '/tmp/output'}\n",
    "    )"
   ]
  },
  {
   "cell_type": "code",
   "execution_count": 15,
   "metadata": {},
   "outputs": [],
   "source": [
    "def print_op(message):\n",
    "    return dsl.ContainerOp(\n",
    "        name='Print message',\n",
    "        image='asia.gcr.io/vinid-data-science-np/vu-example/base:1.0.0',\n",
    "        command=['sh', '-c'],\n",
    "        arguments=[f'echo {message}']\n",
    "    )"
   ]
  },
  {
   "cell_type": "code",
   "execution_count": 16,
   "metadata": {},
   "outputs": [],
   "source": [
    "@dsl.pipeline(\n",
    "    name='Example',\n",
    "    description='Dummy example pipeline'\n",
    ")\n",
    "def serial():\n",
    "    random_task = random(0,9)\n",
    "    print_op(random_task.output)\n",
    "    random_task1 = random(10,19).after(random_task)\n",
    "    print_op(random_task1.output)"
   ]
  },
  {
   "cell_type": "code",
   "execution_count": 18,
   "metadata": {},
   "outputs": [
    {
     "data": {
      "text/html": [
       "Experiment link <a href=\"/pipeline/#/experiments/details/49772a1f-2bc5-4593-90c7-2034a01577b1\" target=\"_blank\" >here</a>"
      ],
      "text/plain": [
       "<IPython.core.display.HTML object>"
      ]
     },
     "metadata": {},
     "output_type": "display_data"
    },
    {
     "data": {
      "text/html": [
       "Run link <a href=\"/pipeline/#/runs/details/6e1e34be-0846-49c4-ac27-7f252f44385f\" target=\"_blank\" >here</a>"
      ],
      "text/plain": [
       "<IPython.core.display.HTML object>"
      ]
     },
     "metadata": {},
     "output_type": "display_data"
    }
   ],
   "source": [
    "run_result = client.create_run_from_pipeline_func(serial, \n",
    "                                                  arguments={},\n",
    "                                                  run_name=run,\n",
    "                                                  experiment_name=experiment,\n",
    "                                                  namespace='vult5')"
   ]
  },
  {
   "cell_type": "code",
   "execution_count": 19,
   "metadata": {},
   "outputs": [
    {
     "data": {
      "text/plain": [
       "{}"
      ]
     },
     "execution_count": 19,
     "metadata": {},
     "output_type": "execute_result"
    }
   ],
   "source": [
    "client.runs.delete_run(run_result.run_id)"
   ]
  },
  {
   "cell_type": "markdown",
   "metadata": {},
   "source": [
    "# Example 3 - Condition"
   ]
  },
  {
   "cell_type": "code",
   "execution_count": 20,
   "metadata": {},
   "outputs": [],
   "source": [
    "import kfp\n",
    "from kfp import components, dsl\n",
    "from easykubeflow import Utils"
   ]
  },
  {
   "cell_type": "code",
   "execution_count": 21,
   "metadata": {},
   "outputs": [
    {
     "data": {
      "text/plain": [
       "<easykubeflow.utils.Utils at 0x7f77d89b7080>"
      ]
     },
     "execution_count": 21,
     "metadata": {},
     "output_type": "execute_result"
    }
   ],
   "source": [
    "client = kfp.Client()\n",
    "Utils(client)"
   ]
  },
  {
   "cell_type": "code",
   "execution_count": 22,
   "metadata": {},
   "outputs": [],
   "source": [
    "experiment=f'{yourname}-Examples'\n",
    "run='flipcoin'"
   ]
  },
  {
   "cell_type": "code",
   "execution_count": 23,
   "metadata": {},
   "outputs": [],
   "source": [
    "def random():\n",
    "    return dsl.ContainerOp(\n",
    "        name='Generate random number between 0 and 1',\n",
    "        image='asia.gcr.io/vinid-data-science-np/vu-example/base:1.0.0',\n",
    "        command=['sh', '-c'],\n",
    "        arguments=[\"\"\"python3 -c \"import random; result = 'heads' if random.randint(0,1) == 0 else 'tails'; print(result)\" | tee /tmp/output\"\"\"],\n",
    "        file_outputs={'output': '/tmp/output'}\n",
    "    )"
   ]
  },
  {
   "cell_type": "code",
   "execution_count": 24,
   "metadata": {},
   "outputs": [],
   "source": [
    "def print_op(message):\n",
    "    return dsl.ContainerOp(\n",
    "        name='Print message',\n",
    "        image='asia.gcr.io/vinid-data-science-np/vu-example/base:1.0.0',\n",
    "        command=['sh', '-c'],\n",
    "        arguments=[f'echo {message}']\n",
    "    )"
   ]
  },
  {
   "cell_type": "code",
   "execution_count": 25,
   "metadata": {},
   "outputs": [],
   "source": [
    "@dsl.pipeline(\n",
    "    name='Example',\n",
    "    description='Dummy example pipeline'\n",
    ")\n",
    "def flip_coin():\n",
    "    flip = random()\n",
    "    with dsl.Condition(flip.output == 'heads'):\n",
    "        print_op('Result is heads')\n",
    "    with dsl.Condition(flip.output == 'tails'):\n",
    "        print_op('Result is tails')"
   ]
  },
  {
   "cell_type": "code",
   "execution_count": 26,
   "metadata": {},
   "outputs": [
    {
     "data": {
      "text/html": [
       "Experiment link <a href=\"/pipeline/#/experiments/details/49772a1f-2bc5-4593-90c7-2034a01577b1\" target=\"_blank\" >here</a>"
      ],
      "text/plain": [
       "<IPython.core.display.HTML object>"
      ]
     },
     "metadata": {},
     "output_type": "display_data"
    },
    {
     "data": {
      "text/html": [
       "Run link <a href=\"/pipeline/#/runs/details/cbed032a-d2be-4fed-86ef-c2b79cd9761d\" target=\"_blank\" >here</a>"
      ],
      "text/plain": [
       "<IPython.core.display.HTML object>"
      ]
     },
     "metadata": {},
     "output_type": "display_data"
    }
   ],
   "source": [
    "run_result = client.create_run_from_pipeline_func(flip_coin, \n",
    "                                                  arguments={},\n",
    "                                                  run_name=run,\n",
    "                                                  experiment_name=experiment,\n",
    "                                                  namespace='vult5')"
   ]
  },
  {
   "cell_type": "code",
   "execution_count": 27,
   "metadata": {},
   "outputs": [
    {
     "data": {
      "text/plain": [
       "{}"
      ]
     },
     "execution_count": 27,
     "metadata": {},
     "output_type": "execute_result"
    }
   ],
   "source": [
    "client.runs.delete_run(run_result.run_id)"
   ]
  },
  {
   "cell_type": "markdown",
   "metadata": {},
   "source": [
    "# Example 4 - Loop"
   ]
  },
  {
   "cell_type": "code",
   "execution_count": 29,
   "metadata": {},
   "outputs": [],
   "source": [
    "import kfp\n",
    "from kfp import components, dsl\n",
    "from easykubeflow import Utils"
   ]
  },
  {
   "cell_type": "code",
   "execution_count": 30,
   "metadata": {},
   "outputs": [
    {
     "data": {
      "text/plain": [
       "<easykubeflow.utils.Utils at 0x7f77d89604a8>"
      ]
     },
     "execution_count": 30,
     "metadata": {},
     "output_type": "execute_result"
    }
   ],
   "source": [
    "client = kfp.Client()\n",
    "Utils(client)"
   ]
  },
  {
   "cell_type": "code",
   "execution_count": 31,
   "metadata": {},
   "outputs": [],
   "source": [
    "experiment=f'{yourname}-Examples'\n",
    "run='loop'"
   ]
  },
  {
   "cell_type": "code",
   "execution_count": 32,
   "metadata": {},
   "outputs": [],
   "source": [
    "def random(low, high):\n",
    "    return dsl.ContainerOp(\n",
    "        name='Generate random number between 0 and 1',\n",
    "        image='asia.gcr.io/vinid-data-science-np/vu-example/base:1.0.0',\n",
    "        command=['sh', '-c'],\n",
    "        arguments=[f\"\"\"python3 -c \"import random; result = random.randint({low},{high}); print(result)\" | tee /tmp/output\"\"\"],\n",
    "        file_outputs={'output': '/tmp/output'}\n",
    "    )"
   ]
  },
  {
   "cell_type": "code",
   "execution_count": 33,
   "metadata": {},
   "outputs": [],
   "source": [
    "def print_op(message):\n",
    "    return dsl.ContainerOp(\n",
    "        name='Print message',\n",
    "        image='asia.gcr.io/vinid-data-science-np/vu-example/base:1.0.0',\n",
    "        command=['sh', '-c'],\n",
    "        arguments=[f'echo {message}']\n",
    "    )"
   ]
  },
  {
   "cell_type": "code",
   "execution_count": 34,
   "metadata": {},
   "outputs": [],
   "source": [
    "@dsl.pipeline(\n",
    "    name='Example',\n",
    "    description='Dummy example pipeline'\n",
    ")\n",
    "def loop(lst:list):\n",
    "    random0 = random(0, 10)\n",
    "    with dsl.ParallelFor(lst) as item:\n",
    "        random1 = random(0, item).after(random0)\n",
    "        print_op(random1.output)\n",
    "    "
   ]
  },
  {
   "cell_type": "code",
   "execution_count": 35,
   "metadata": {},
   "outputs": [
    {
     "data": {
      "text/html": [
       "Experiment link <a href=\"/pipeline/#/experiments/details/49772a1f-2bc5-4593-90c7-2034a01577b1\" target=\"_blank\" >here</a>"
      ],
      "text/plain": [
       "<IPython.core.display.HTML object>"
      ]
     },
     "metadata": {},
     "output_type": "display_data"
    },
    {
     "data": {
      "text/html": [
       "Run link <a href=\"/pipeline/#/runs/details/bc332f1d-c178-46af-a8f6-74fdfb2cc9a6\" target=\"_blank\" >here</a>"
      ],
      "text/plain": [
       "<IPython.core.display.HTML object>"
      ]
     },
     "metadata": {},
     "output_type": "display_data"
    }
   ],
   "source": [
    "run_result = client.create_run_from_pipeline_func(loop, \n",
    "                                                  arguments={'lst':[5,4,2,6,9]},\n",
    "                                                  run_name=run,\n",
    "                                                  experiment_name=experiment,\n",
    "                                                  namespace='vult5')"
   ]
  },
  {
   "cell_type": "code",
   "execution_count": 36,
   "metadata": {},
   "outputs": [
    {
     "data": {
      "text/plain": [
       "{}"
      ]
     },
     "execution_count": 36,
     "metadata": {},
     "output_type": "execute_result"
    }
   ],
   "source": [
    "client.runs.delete_run(run_result.run_id)"
   ]
  },
  {
   "cell_type": "markdown",
   "metadata": {},
   "source": [
    "# Example 5 - Upload pipeline"
   ]
  },
  {
   "cell_type": "code",
   "execution_count": 40,
   "metadata": {},
   "outputs": [],
   "source": [
    "import kfp\n",
    "from kfp import components, dsl\n",
    "from easykubeflow import Utils"
   ]
  },
  {
   "cell_type": "code",
   "execution_count": 41,
   "metadata": {},
   "outputs": [
    {
     "data": {
      "text/plain": [
       "<easykubeflow.utils.Utils at 0x7f77d86c56a0>"
      ]
     },
     "execution_count": 41,
     "metadata": {},
     "output_type": "execute_result"
    }
   ],
   "source": [
    "client = kfp.Client()\n",
    "Utils(client)"
   ]
  },
  {
   "cell_type": "code",
   "execution_count": 43,
   "metadata": {},
   "outputs": [],
   "source": [
    "experiment=f'{yourname}-Examples'\n",
    "run='upload_pipeline'"
   ]
  },
  {
   "cell_type": "code",
   "execution_count": 44,
   "metadata": {},
   "outputs": [],
   "source": [
    "def print_op(message):\n",
    "    return dsl.ContainerOp(\n",
    "        name='Print message',\n",
    "        image='asia.gcr.io/vinid-data-science-np/vu-example/base:1.0.0',\n",
    "        command=['sh', '-c'],\n",
    "        arguments=[f'echo {message}']\n",
    "    )"
   ]
  },
  {
   "cell_type": "code",
   "execution_count": 47,
   "metadata": {},
   "outputs": [],
   "source": [
    "@dsl.pipeline(\n",
    "    name='Example',\n",
    "    description='Dummy example pipeline'\n",
    ")\n",
    "def upload_pipeline(lst:list):\n",
    "    echo0 = print_op('task0')\n",
    "    echo1 = print_op('task1')\n",
    "    echo1.after(echo0)"
   ]
  },
  {
   "cell_type": "code",
   "execution_count": 48,
   "metadata": {},
   "outputs": [
    {
     "data": {
      "text/plain": [
       "'upload_pipeline'"
      ]
     },
     "execution_count": 48,
     "metadata": {},
     "output_type": "execute_result"
    }
   ],
   "source": [
    "upload_pipeline.__name__"
   ]
  },
  {
   "cell_type": "code",
   "execution_count": 49,
   "metadata": {},
   "outputs": [
    {
     "data": {
      "text/html": [
       "Pipeline link <a href=/pipeline/#/pipelines/details/021fb251-e081-4a1f-ab59-bf5d39ad49ee>here</a>"
      ],
      "text/plain": [
       "<IPython.core.display.HTML object>"
      ]
     },
     "metadata": {},
     "output_type": "display_data"
    },
    {
     "name": "stdout",
     "output_type": "stream",
     "text": [
      "Uploaded new pipeline\n"
     ]
    }
   ],
   "source": [
    "from kfp.compiler import Compiler\n",
    "package_name = upload_pipeline.__name__ + '.yaml'\n",
    "Compiler().compile(upload_pipeline, package_name)\n",
    "client.upload_pipeline_version(package_name, upload_pipeline.__name__)"
   ]
  },
  {
   "cell_type": "code",
   "execution_count": null,
   "metadata": {},
   "outputs": [],
   "source": []
  }
 ],
 "metadata": {
  "kernelspec": {
   "display_name": "Python 3",
   "language": "python",
   "name": "python3"
  },
  "language_info": {
   "codemirror_mode": {
    "name": "ipython",
    "version": 3
   },
   "file_extension": ".py",
   "mimetype": "text/x-python",
   "name": "python",
   "nbconvert_exporter": "python",
   "pygments_lexer": "ipython3",
   "version": "3.6.9"
  }
 },
 "nbformat": 4,
 "nbformat_minor": 4
}
