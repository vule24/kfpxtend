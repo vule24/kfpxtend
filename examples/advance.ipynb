{
 "cells": [
  {
   "cell_type": "code",
   "execution_count": 32,
   "metadata": {},
   "outputs": [],
   "source": [
    "# add your name here. Eg: yourname = 'vult5'\n",
    "yourname = 'vult5'\n",
    "NAMESPACE=yourname\n",
    "EXPERIMENT=f'{yourname}-Examples'\n",
    "IMAGE='asia.gcr.io/vinid-data-science-np/vu-example/base:1.0.0'\n",
    "GCS_URI='gs://vinid-data-science-rec-ecart-np/kubeflow_artifact_sample'"
   ]
  },
  {
   "cell_type": "markdown",
   "metadata": {},
   "source": [
    "# Example 1 - Lightweight component"
   ]
  },
  {
   "cell_type": "markdown",
   "metadata": {},
   "source": [
    "## Simple pipeline "
   ]
  },
  {
   "cell_type": "markdown",
   "metadata": {},
   "source": [
    "Lightweight component is just like `dsl.ContainerOp`. <br>\n",
    "The difference is it could transform a python function into a entrypoint for an defined image<br>\n",
    "The principle of how it works is like: \n",
    "```bash\n",
    "docker run --name <op_name> <base_image> python3 -c \"import random; print(random.randint(0, 10))\"\n",
    "```"
   ]
  },
  {
   "cell_type": "code",
   "execution_count": 2,
   "metadata": {},
   "outputs": [],
   "source": [
    "import kfp\n",
    "from kfp import components, dsl\n",
    "import easykubeflow as ekf"
   ]
  },
  {
   "cell_type": "code",
   "execution_count": 3,
   "metadata": {},
   "outputs": [
    {
     "data": {
      "text/plain": [
       "<easykubeflow.utils.Utils at 0x7fa750403550>"
      ]
     },
     "execution_count": 3,
     "metadata": {},
     "output_type": "execute_result"
    }
   ],
   "source": [
    "client = kfp.Client()\n",
    "ekf.Utils(client)"
   ]
  },
  {
   "cell_type": "code",
   "execution_count": 4,
   "metadata": {},
   "outputs": [],
   "source": [
    "@components.func_to_container_op\n",
    "def print_op(message):\n",
    "    from datetime import datetime\n",
    "    print(f'{datetime.now()} -- message: {message}')"
   ]
  },
  {
   "cell_type": "markdown",
   "metadata": {},
   "source": [
    "The approach above is not recommended in the restrict internet access environment<br>\n",
    "cause the Kubeflow host would pull the default image that not appear in our Registry<br>\n",
    "To replace default image, we have to do it like this"
   ]
  },
  {
   "cell_type": "code",
   "execution_count": 6,
   "metadata": {},
   "outputs": [],
   "source": [
    "def print_op(message):\n",
    "    from datetime import datetime\n",
    "    print(f'{datetime.now()} -- message: {message}')\n",
    "    \n",
    "print_op = components.func_to_container_op(print_op, base_image=IMAGE)"
   ]
  },
  {
   "cell_type": "markdown",
   "metadata": {},
   "source": [
    "To be more straightforward, the `easykubeflow` has the same function but allows<br>\n",
    "you to define the base image in the decorator format"
   ]
  },
  {
   "cell_type": "code",
   "execution_count": 7,
   "metadata": {},
   "outputs": [],
   "source": [
    "@ekf.func_to_container_op(base_image=IMAGE)\n",
    "def print_op(message):\n",
    "    from datetime import datetime\n",
    "    print(f'{datetime.now()} -- message: {message}')"
   ]
  },
  {
   "cell_type": "markdown",
   "metadata": {},
   "source": [
    "Now define sample pipeline "
   ]
  },
  {
   "cell_type": "code",
   "execution_count": 8,
   "metadata": {},
   "outputs": [],
   "source": [
    "@dsl.pipeline(\n",
    "    name=\"Sample pipeline\",\n",
    "    description=\"Just a simple test for lightweight components\"\n",
    ")\n",
    "def pipeline(yourname:str):\n",
    "    print_op(yourname)"
   ]
  },
  {
   "cell_type": "code",
   "execution_count": 9,
   "metadata": {},
   "outputs": [
    {
     "data": {
      "text/html": [
       "Experiment link <a href=\"/pipeline/#/experiments/details/49772a1f-2bc5-4593-90c7-2034a01577b1\" target=\"_blank\" >here</a>"
      ],
      "text/plain": [
       "<IPython.core.display.HTML object>"
      ]
     },
     "metadata": {},
     "output_type": "display_data"
    },
    {
     "data": {
      "text/html": [
       "Run link <a href=\"/pipeline/#/runs/details/9e851d93-cdd3-4cda-b8b5-35be9d2023f3\" target=\"_blank\" >here</a>"
      ],
      "text/plain": [
       "<IPython.core.display.HTML object>"
      ]
     },
     "metadata": {},
     "output_type": "display_data"
    }
   ],
   "source": [
    "RUN='Lightweight Component'\n",
    "run_result = client.create_run_from_pipeline_func(pipeline_func=pipeline,\n",
    "                                                  arguments={'yourname': yourname},\n",
    "                                                  run_name=RUN,\n",
    "                                                  experiment_name=EXPERIMENT,\n",
    "                                                  namespace=NAMESPACE)"
   ]
  },
  {
   "cell_type": "code",
   "execution_count": 10,
   "metadata": {},
   "outputs": [
    {
     "data": {
      "text/plain": [
       "{}"
      ]
     },
     "execution_count": 10,
     "metadata": {},
     "output_type": "execute_result"
    }
   ],
   "source": [
    "client.runs.delete_run(run_result.run_id)"
   ]
  },
  {
   "cell_type": "markdown",
   "metadata": {},
   "source": [
    "## Lightweigh component with output"
   ]
  },
  {
   "cell_type": "code",
   "execution_count": 11,
   "metadata": {},
   "outputs": [],
   "source": [
    "import kfp\n",
    "from kfp import components, dsl\n",
    "import easykubeflow as ekf\n",
    "from typing import NamedTuple"
   ]
  },
  {
   "cell_type": "code",
   "execution_count": 12,
   "metadata": {},
   "outputs": [
    {
     "data": {
      "text/plain": [
       "<easykubeflow.utils.Utils at 0x7fa72887a3c8>"
      ]
     },
     "execution_count": 12,
     "metadata": {},
     "output_type": "execute_result"
    }
   ],
   "source": [
    "client = kfp.Client()\n",
    "ekf.Utils(client)"
   ]
  },
  {
   "cell_type": "markdown",
   "metadata": {},
   "source": [
    "The Lightweight Components require typing for its outputs.\n",
    "There are 2 steps:\n",
    "- Define op output type with NamedTuple\n",
    "- Using namedtuple to return output at the end of your code."
   ]
  },
  {
   "cell_type": "code",
   "execution_count": 13,
   "metadata": {},
   "outputs": [],
   "source": [
    "@ekf.func_to_container_op(base_image=IMAGE)\n",
    "def random_op() -> NamedTuple('RandomOutput', [('random_number', int),('random_time', str)]):\n",
    "    from datetime import datetime\n",
    "    import random\n",
    "    \n",
    "    r_int = random.randint(0, 10)\n",
    "    r_time = str(datetime.now())\n",
    "    \n",
    "    # return output for this Op\n",
    "    from collections import namedtuple\n",
    "    result = namedtuple('RandomOutput', ['random_number', 'random_time'])\n",
    "    return result(r_int, r_time)"
   ]
  },
  {
   "cell_type": "code",
   "execution_count": 14,
   "metadata": {},
   "outputs": [],
   "source": [
    "@ekf.func_to_container_op(base_image=IMAGE)\n",
    "def print_op(message):\n",
    "    print(f'message: {message}')"
   ]
  },
  {
   "cell_type": "code",
   "execution_count": 15,
   "metadata": {},
   "outputs": [],
   "source": [
    "@dsl.pipeline(\n",
    "    name=\"Sample pipeline\",\n",
    "    description=\"Just a simple test for lightweight components\"\n",
    ")\n",
    "def pipeline(yourname:str):\n",
    "    random_task = random_op()\n",
    "    print_op(random_task.outputs['random_number'])\n",
    "    print_op(random_task.outputs['random_time'])"
   ]
  },
  {
   "cell_type": "code",
   "execution_count": 16,
   "metadata": {},
   "outputs": [
    {
     "data": {
      "text/html": [
       "Experiment link <a href=\"/pipeline/#/experiments/details/49772a1f-2bc5-4593-90c7-2034a01577b1\" target=\"_blank\" >here</a>"
      ],
      "text/plain": [
       "<IPython.core.display.HTML object>"
      ]
     },
     "metadata": {},
     "output_type": "display_data"
    },
    {
     "data": {
      "text/html": [
       "Run link <a href=\"/pipeline/#/runs/details/7f86ca84-0e61-4bc5-b389-8e43984af0bf\" target=\"_blank\" >here</a>"
      ],
      "text/plain": [
       "<IPython.core.display.HTML object>"
      ]
     },
     "metadata": {},
     "output_type": "display_data"
    }
   ],
   "source": [
    "RUN='Lightweight Component'\n",
    "run_result = client.create_run_from_pipeline_func(pipeline_func=pipeline,\n",
    "                                                  arguments={'yourname': yourname},\n",
    "                                                  run_name=RUN,\n",
    "                                                  experiment_name=EXPERIMENT,\n",
    "                                                  namespace=NAMESPACE)"
   ]
  },
  {
   "cell_type": "code",
   "execution_count": 17,
   "metadata": {},
   "outputs": [
    {
     "data": {
      "text/plain": [
       "{}"
      ]
     },
     "execution_count": 17,
     "metadata": {},
     "output_type": "execute_result"
    }
   ],
   "source": [
    "client.runs.delete_run(run_result.run_id)"
   ]
  },
  {
   "cell_type": "markdown",
   "metadata": {},
   "source": [
    "# Example 2 - Recursion"
   ]
  },
  {
   "cell_type": "markdown",
   "metadata": {},
   "source": [
    "In this example, we use Recursion to solve multigroup problem in P13N project.\n",
    "\n",
    "\n",
    "The P13N project's got only one pipeline graph but it has to cover 2 groups of user A and D.<br>\n",
    "So far we have parsed the group type as Pipeline Params and set recurrent job twice. <br>\n",
    "This solution is not proper enough if we want it to run in serial pipeline that is\n",
    "when group A flow is done then the group D flow would be started to run but we could only\n",
    "estimate the total run time of group A and then set the proper time for group D as group A job done.\n",
    "\n",
    "\n",
    "The example below would show you how to implement serial run with only one graph for multigroup of user."
   ]
  },
  {
   "cell_type": "code",
   "execution_count": 18,
   "metadata": {},
   "outputs": [],
   "source": [
    "import kfp\n",
    "from kfp import dsl, components\n",
    "from easykubeflow import Utils, func_to_container_op\n",
    "from typing import NamedTuple"
   ]
  },
  {
   "cell_type": "code",
   "execution_count": 19,
   "metadata": {},
   "outputs": [
    {
     "data": {
      "text/plain": [
       "<easykubeflow.utils.Utils at 0x7fa7285954a8>"
      ]
     },
     "execution_count": 19,
     "metadata": {},
     "output_type": "execute_result"
    }
   ],
   "source": [
    "client = kfp.Client()\n",
    "Utils(client)"
   ]
  },
  {
   "cell_type": "markdown",
   "metadata": {},
   "source": [
    "The `decision_op` would process the list of user group that we define in string format. For instance: `\"A|B|C\"`"
   ]
  },
  {
   "cell_type": "code",
   "execution_count": 20,
   "metadata": {},
   "outputs": [],
   "source": [
    "@func_to_container_op(base_image=IMAGE)\n",
    "def decision_op(groups:str) -> NamedTuple('DecisionOuput', [('picked_group', str),('rest_group', str), ('stop', str)]):\n",
    "    groups = groups.split(\"|\")\n",
    "    count = len(groups) - 1\n",
    "    picked_group = groups[0]\n",
    "    rest_group = \"|\".join(groups[1:])\n",
    "    stop = \"no\"\n",
    "    if count == 0:\n",
    "        stop = 'yes'\n",
    "        rest_group=\"empty\"\n",
    "    print(f'picked_group: {picked_group} -- rest_group: {rest_group} -- count: {count}')    \n",
    "    from collections import namedtuple\n",
    "    result = namedtuple('DecisionOuput', ['picked_group', 'rest_group', 'stop'])\n",
    "    return result(picked_group, rest_group, stop)"
   ]
  },
  {
   "cell_type": "markdown",
   "metadata": {},
   "source": [
    "`do_task_op` represent for many ops that we use in the pipeline.\n",
    "\n",
    "Just like: `user_op`, `item_op`, `optim_op`, etc."
   ]
  },
  {
   "cell_type": "code",
   "execution_count": 21,
   "metadata": {},
   "outputs": [],
   "source": [
    "@func_to_container_op(base_image=IMAGE)\n",
    "def do_task_op(group:str, rest_group:str, stop:str) -> NamedTuple('DoTaskOutput', [('rest_group', str), ('stop', str)]):\n",
    "    print(f'Do something with {group}')\n",
    "    \n",
    "    from collections import namedtuple\n",
    "    result = namedtuple('DoTaskOutput', ['rest_group', 'stop'])\n",
    "    return result(rest_group, stop)"
   ]
  },
  {
   "cell_type": "code",
   "execution_count": 22,
   "metadata": {},
   "outputs": [],
   "source": [
    "@dsl.graph_component\n",
    "def group_component(groups:str, stop:str):\n",
    "    with dsl.Condition(stop == \"no\"):\n",
    "        dec = decision_op(groups)\n",
    "        # replace done_task with your pipeline logic here\n",
    "        done_task = do_task_op(dec.outputs['picked_group'], dec.outputs['rest_group'], dec.outputs['stop'])\n",
    "        # remember to parse the stop signal and list of the rest of groups for group_component that returned by dec\n",
    "        group_component(done_task.outputs['rest_group'], done_task.outputs['stop'])"
   ]
  },
  {
   "cell_type": "code",
   "execution_count": 23,
   "metadata": {},
   "outputs": [],
   "source": [
    "@dsl.pipeline(\n",
    "    name=\"Sample pipeline\",\n",
    "    description=\"Just a simple test for lightweight components\"\n",
    ")\n",
    "def pipeline(groups:str, stop:str):\n",
    "    group_component(groups, stop)"
   ]
  },
  {
   "cell_type": "code",
   "execution_count": 24,
   "metadata": {},
   "outputs": [
    {
     "data": {
      "text/html": [
       "Experiment link <a href=\"/pipeline/#/experiments/details/49772a1f-2bc5-4593-90c7-2034a01577b1\" target=\"_blank\" >here</a>"
      ],
      "text/plain": [
       "<IPython.core.display.HTML object>"
      ]
     },
     "metadata": {},
     "output_type": "display_data"
    },
    {
     "data": {
      "text/html": [
       "Run link <a href=\"/pipeline/#/runs/details/431d9d63-1e9a-4587-a086-d25ba1887e84\" target=\"_blank\" >here</a>"
      ],
      "text/plain": [
       "<IPython.core.display.HTML object>"
      ]
     },
     "metadata": {},
     "output_type": "display_data"
    }
   ],
   "source": [
    "RUN='Recursion'\n",
    "run_result = client.create_run_from_pipeline_func(pipeline_func=pipeline,\n",
    "                                                  arguments={'groups': 'A|B|C', 'stop': 'no'},\n",
    "                                                  run_name=RUN,\n",
    "                                                  experiment_name=EXPERIMENT,\n",
    "                                                  namespace=NAMESPACE)"
   ]
  },
  {
   "cell_type": "code",
   "execution_count": 25,
   "metadata": {},
   "outputs": [
    {
     "data": {
      "text/plain": [
       "{}"
      ]
     },
     "execution_count": 25,
     "metadata": {},
     "output_type": "execute_result"
    }
   ],
   "source": [
    "client.runs.delete_run(run_result.run_id)"
   ]
  },
  {
   "cell_type": "markdown",
   "metadata": {},
   "source": [
    "# Example 3 - ContainerOp Artifact"
   ]
  },
  {
   "cell_type": "markdown",
   "metadata": {},
   "source": [
    "This examples show you how to use artifact metadata in containerOp that would be illustrated in the module of the run"
   ]
  },
  {
   "cell_type": "markdown",
   "metadata": {},
   "source": [
    "## Confusion Matrix"
   ]
  },
  {
   "cell_type": "code",
   "execution_count": 29,
   "metadata": {},
   "outputs": [],
   "source": [
    "import kfp\n",
    "from kfp import dsl, components\n",
    "from easykubeflow import func_to_container_op, Utils\n",
    "from typing import NamedTuple"
   ]
  },
  {
   "cell_type": "code",
   "execution_count": 30,
   "metadata": {},
   "outputs": [],
   "source": [
    "client = kfp.Client()\n",
    "Utils(client)"
   ]
  },
  {
   "cell_type": "code",
   "execution_count": 41,
   "metadata": {},
   "outputs": [],
   "source": [
    "@func_to_container_op(base_image=IMAGE)\n",
    "def confusion_matrix_op(gcs_uri:str) -> NamedTuple('ConfusionMatrixOutput', [('mlpipeline_ui_metadata', 'UI_metadata')]):\n",
    "    import pip\n",
    "    def install(package):\n",
    "        if hasattr(pip, 'main'):\n",
    "            pip.main(['install', package])\n",
    "        else:\n",
    "            pip._internal.main(['install', package])\n",
    "    install('pandas')\n",
    "    install('sklearn')\n",
    "    \n",
    "    import json\n",
    "    from pathlib import Path\n",
    "    import pandas as pd\n",
    "    from sklearn.metrics import confusion_matrix, accuracy_score\n",
    "    import subprocess\n",
    "\n",
    "    # init confusion matrix\n",
    "    y_true = [\"cat\", \"ant\", \"cat\", \"cat\", \"ant\", \"bird\"]\n",
    "    y_pred = [\"ant\", \"ant\", \"cat\", \"cat\", \"ant\", \"cat\"]\n",
    "    vocab = [\"ant\", \"bird\", \"cat\"]\n",
    "    cm = confusion_matrix(y_true, y_pred, labels=vocab)\n",
    "    \n",
    "    # create confusion matrix csv file\n",
    "    data = []\n",
    "    for actual_idx, actual_row in enumerate(cm):\n",
    "        for predict_idx, count in enumerate(actual_row):\n",
    "            data.append((vocab[actual_idx], vocab[predict_idx], count))\n",
    "    df_cm = pd.DataFrame(data, columns=['actual', 'predict', 'count'])\n",
    "    \n",
    "    # write and upload csv file to GCS\n",
    "    cm_file = '/confusion_matrix.csv'\n",
    "    with open(cm_file, 'w') as f:\n",
    "        df_cm.to_csv(f, columns=['actual', 'predict', 'count'], header=False, index=False)\n",
    "    bash_command = f\"gsutil cp {cm_file} {gcs_uri}\"\n",
    "    process = subprocess.Popen(bash_command.split(), stdout=subprocess.PIPE)\n",
    "    output, error = process.communicate()\n",
    "    \n",
    "    # define metadata\n",
    "    metadata = {\n",
    "        \"version\": 1,\n",
    "        \"outputs\" : [\n",
    "        {\n",
    "            \"type\": \"confusion_matrix\",\n",
    "            \"format\": \"csv\",\n",
    "            \"source\": f\"{gcs_uri}{cm_file}\",\n",
    "            \"schema\": [\n",
    "                {\"name\": \"actual\", \"type\": \"CATEGORY\"},\n",
    "                {\"name\": \"predict\", \"type\": \"CATEGORY\"},\n",
    "                {\"name\": \"count\", \"type\": \"NUMBER\"},\n",
    "            ],\n",
    "            \"labels\": list(map(str, vocab))\n",
    "        }]\n",
    "    }\n",
    "    \n",
    "    from collections import namedtuple\n",
    "    confusion_matrix_output = namedtuple('ConfusionMatrixOutput', ['mlpipeline_ui_metadata'])\n",
    "    return confusion_matrix_output(json.dumps(metadata))"
   ]
  },
  {
   "cell_type": "code",
   "execution_count": 43,
   "metadata": {},
   "outputs": [],
   "source": [
    "@dsl.pipeline(\n",
    "    name=\"Lightweight pipeline\",\n",
    "    description=\"artifact\"\n",
    ")\n",
    "def pipeline(gcs_uri:str):\n",
    "    task0 = confusion_matrix_op(gcs_uri=gcs_uri)"
   ]
  },
  {
   "cell_type": "code",
   "execution_count": 44,
   "metadata": {},
   "outputs": [
    {
     "data": {
      "text/html": [
       "Experiment link <a href=\"/pipeline/#/experiments/details/49772a1f-2bc5-4593-90c7-2034a01577b1\" target=\"_blank\" >here</a>"
      ],
      "text/plain": [
       "<IPython.core.display.HTML object>"
      ]
     },
     "metadata": {},
     "output_type": "display_data"
    },
    {
     "data": {
      "text/html": [
       "Run link <a href=\"/pipeline/#/runs/details/f46b823d-8911-41a9-970d-ddda20572459\" target=\"_blank\" >here</a>"
      ],
      "text/plain": [
       "<IPython.core.display.HTML object>"
      ]
     },
     "metadata": {},
     "output_type": "display_data"
    }
   ],
   "source": [
    "RUN=\"Artifact-Confusion-matrix\"\n",
    "run_result = client.create_run_from_pipeline_func(pipeline_func=pipeline,\n",
    "                                                  arguments={'gcs_uri' : GCS_URI},\n",
    "                                                  run_name=RUN,\n",
    "                                                  experiment_name=EXPERIMENT,\n",
    "                                                  namespace=NAMESPACE)"
   ]
  },
  {
   "cell_type": "code",
   "execution_count": 42,
   "metadata": {},
   "outputs": [
    {
     "data": {
      "text/plain": [
       "{}"
      ]
     },
     "execution_count": 42,
     "metadata": {},
     "output_type": "execute_result"
    }
   ],
   "source": [
    "client.runs.delete_run(run_result.run_id)"
   ]
  },
  {
   "cell_type": "markdown",
   "metadata": {},
   "source": [
    "## Markdown"
   ]
  },
  {
   "cell_type": "code",
   "execution_count": 45,
   "metadata": {},
   "outputs": [],
   "source": [
    "import kfp\n",
    "from kfp import dsl, components\n",
    "from easykubeflow import func_to_container_op, Utils\n",
    "from typing import NamedTuple"
   ]
  },
  {
   "cell_type": "code",
   "execution_count": 46,
   "metadata": {},
   "outputs": [],
   "source": [
    "client = kfp.Client()\n",
    "Utils(client)"
   ]
  },
  {
   "cell_type": "code",
   "execution_count": 47,
   "metadata": {},
   "outputs": [],
   "source": [
    "@func_to_container_op(base_image=IMAGE)\n",
    "def markdown_op(gcs_uri:str) -> NamedTuple('MarkdownOutput', [('mlpipeline_ui_metadata', 'UI_metadata')]):\n",
    "    import json\n",
    "    from pathlib import Path\n",
    "    import subprocess\n",
    "    \n",
    "    markdown_content = \"\"\"# Markdown from GCS\n",
    "    ## Heading2\n",
    "    blah blah\n",
    "    \"\"\"\n",
    "    markdown_file =  \"/README.md\"\n",
    "    with open(markdown_file, 'w') as f:\n",
    "        f.write(markdown_content)\n",
    "        \n",
    "    bash_command = f\"gsutil cp {markdown_file} {gcs_uri}\"\n",
    "    process = subprocess.Popen(bash_command.split(), stdout=subprocess.PIPE)\n",
    "    output, error = process.communicate()\n",
    "    \n",
    "    metadata = {\n",
    "        \"version\": 1,\n",
    "        \"outputs\" : [\n",
    "        {\n",
    "            \"type\": \"markdown\",\n",
    "            \"source\": f\"{gcs_uri}{markdown_file}\",\n",
    "        },\n",
    "        {\n",
    "            \"storage\": \"inline\", \n",
    "            \"source\": \"# Inline Markdown\\n[Link to kubeflow homepage](https://kubeflow.iap.vinid.dev/)\", \n",
    "            \"type\": \"markdown\"\n",
    "        }]\n",
    "    }\n",
    "    \n",
    "    from collections import namedtuple\n",
    "    confusion_matrix_output = namedtuple('ConfusionMatrixOutput', ['mlpipeline_ui_metadata'])\n",
    "    return confusion_matrix_output(json.dumps(metadata))"
   ]
  },
  {
   "cell_type": "code",
   "execution_count": 48,
   "metadata": {},
   "outputs": [],
   "source": [
    "@dsl.pipeline(\n",
    "    name=\"Lightweight pipeline\",\n",
    "    description=\"artifact\"\n",
    ")\n",
    "def pipeline(gcs_uri:str):\n",
    "    task0 = markdown_op(gcs_uri=gcs_uri)"
   ]
  },
  {
   "cell_type": "code",
   "execution_count": 49,
   "metadata": {},
   "outputs": [
    {
     "data": {
      "text/html": [
       "Experiment link <a href=\"/pipeline/#/experiments/details/49772a1f-2bc5-4593-90c7-2034a01577b1\" target=\"_blank\" >here</a>"
      ],
      "text/plain": [
       "<IPython.core.display.HTML object>"
      ]
     },
     "metadata": {},
     "output_type": "display_data"
    },
    {
     "data": {
      "text/html": [
       "Run link <a href=\"/pipeline/#/runs/details/0cec50ed-dcd0-47b9-9e33-c3910fa1abef\" target=\"_blank\" >here</a>"
      ],
      "text/plain": [
       "<IPython.core.display.HTML object>"
      ]
     },
     "metadata": {},
     "output_type": "display_data"
    }
   ],
   "source": [
    "RUN=\"Artifact-Markdown\"\n",
    "run_result = client.create_run_from_pipeline_func(pipeline_func=pipeline,\n",
    "                                                  arguments={'gcs_uri' : GCS_URI},\n",
    "                                                  run_name=RUN,\n",
    "                                                  experiment_name=EXPERIMENT,\n",
    "                                                  namespace=NAMESPACE)"
   ]
  },
  {
   "cell_type": "code",
   "execution_count": 52,
   "metadata": {},
   "outputs": [
    {
     "data": {
      "text/plain": [
       "{}"
      ]
     },
     "execution_count": 52,
     "metadata": {},
     "output_type": "execute_result"
    }
   ],
   "source": [
    "client.runs.delete_run(run_result.run_id)"
   ]
  },
  {
   "cell_type": "markdown",
   "metadata": {},
   "source": [
    "## ROC Curve"
   ]
  },
  {
   "cell_type": "code",
   "execution_count": 29,
   "metadata": {},
   "outputs": [],
   "source": [
    "import kfp\n",
    "from kfp import dsl, components\n",
    "from easykubeflow import func_to_container_op, Utils\n",
    "from typing import NamedTuple"
   ]
  },
  {
   "cell_type": "code",
   "execution_count": 30,
   "metadata": {},
   "outputs": [],
   "source": [
    "client = kfp.Client()\n",
    "Utils(client)"
   ]
  },
  {
   "cell_type": "code",
   "execution_count": 59,
   "metadata": {},
   "outputs": [],
   "source": [
    "@func_to_container_op(base_image=IMAGE)\n",
    "def roc_op(gcs_uri:str) -> NamedTuple('MarkdownOutput', [('mlpipeline_ui_metadata', 'UI_metadata')]):\n",
    "    import pip\n",
    "    def install(package):\n",
    "        if hasattr(pip, 'main'):\n",
    "            pip.main(['install', package])\n",
    "        else:\n",
    "            pip._internal.main(['install', package])\n",
    "    install('pandas')\n",
    "    \n",
    "    import json\n",
    "    from pathlib import Path\n",
    "    import subprocess\n",
    "    import pandas as pd\n",
    "    \n",
    "    # create ROC csv file\n",
    "    fpr = [i/100 for i in range(100)]\n",
    "    tpr = [i*0.04 if i*0.04 < 1  else 1 for i in range(100)]\n",
    "    thresholds = 0.5\n",
    "    df_roc = pd.DataFrame({'fpr': fpr, 'tpr': tpr, 'thresholds': thresholds})\n",
    "    roc_file = '/roc.csv'\n",
    "    with open(roc_file, 'w') as f:\n",
    "        df_roc.to_csv(f, columns=['fpr', 'tpr', 'thresholds'], header=False, index=False)\n",
    "        \n",
    "    bash_command = f\"gsutil cp {roc_file} {gcs_uri}\"\n",
    "    process = subprocess.Popen(bash_command.split(), stdout=subprocess.PIPE)\n",
    "    output, error = process.communicate()\n",
    "    \n",
    "    metadata = {\n",
    "        'outputs': [\n",
    "        {\n",
    "            'type': 'roc',\n",
    "            'format': 'csv',\n",
    "            'schema': [\n",
    "                {'name': 'fpr', 'type': 'NUMBER'},\n",
    "                {'name': 'tpr', 'type': 'NUMBER'},\n",
    "                {'name': 'thresholds', 'type': 'NUMBER'},\n",
    "            ],\n",
    "            'source': f\"{gcs_uri}{roc_file}\"\n",
    "        }]\n",
    "    }\n",
    "    \n",
    "    from collections import namedtuple\n",
    "    confusion_matrix_output = namedtuple('ConfusionMatrixOutput', ['mlpipeline_ui_metadata'])\n",
    "    return confusion_matrix_output(json.dumps(metadata))"
   ]
  },
  {
   "cell_type": "code",
   "execution_count": 60,
   "metadata": {},
   "outputs": [],
   "source": [
    "@dsl.pipeline(\n",
    "    name=\"Lightweight pipeline\",\n",
    "    description=\"artifact\"\n",
    ")\n",
    "def pipeline(gcs_uri:str):\n",
    "    task0 = roc_op(gcs_uri=gcs_uri)"
   ]
  },
  {
   "cell_type": "code",
   "execution_count": 61,
   "metadata": {},
   "outputs": [
    {
     "data": {
      "text/html": [
       "Experiment link <a href=\"/pipeline/#/experiments/details/49772a1f-2bc5-4593-90c7-2034a01577b1\" target=\"_blank\" >here</a>"
      ],
      "text/plain": [
       "<IPython.core.display.HTML object>"
      ]
     },
     "metadata": {},
     "output_type": "display_data"
    },
    {
     "data": {
      "text/html": [
       "Run link <a href=\"/pipeline/#/runs/details/6d7302f1-47e5-40cf-99ac-295188994984\" target=\"_blank\" >here</a>"
      ],
      "text/plain": [
       "<IPython.core.display.HTML object>"
      ]
     },
     "metadata": {},
     "output_type": "display_data"
    }
   ],
   "source": [
    "RUN=\"Artifact-ROC-curve\"\n",
    "run_result = client.create_run_from_pipeline_func(pipeline_func=pipeline,\n",
    "                                                  arguments={'gcs_uri' : GCS_URI},\n",
    "                                                  run_name=RUN,\n",
    "                                                  experiment_name=EXPERIMENT,\n",
    "                                                  namespace=NAMESPACE)"
   ]
  },
  {
   "cell_type": "code",
   "execution_count": 62,
   "metadata": {},
   "outputs": [
    {
     "data": {
      "text/plain": [
       "{}"
      ]
     },
     "execution_count": 62,
     "metadata": {},
     "output_type": "execute_result"
    }
   ],
   "source": [
    "client.runs.delete_run(run_result.run_id)"
   ]
  },
  {
   "cell_type": "markdown",
   "metadata": {},
   "source": [
    "## Table"
   ]
  },
  {
   "cell_type": "code",
   "execution_count": 63,
   "metadata": {},
   "outputs": [],
   "source": [
    "import kfp\n",
    "from kfp import dsl, components\n",
    "from easykubeflow import func_to_container_op, Utils\n",
    "from typing import NamedTuple"
   ]
  },
  {
   "cell_type": "code",
   "execution_count": 64,
   "metadata": {},
   "outputs": [],
   "source": [
    "client = kfp.Client()\n",
    "Utils(client)"
   ]
  },
  {
   "cell_type": "code",
   "execution_count": 65,
   "metadata": {},
   "outputs": [],
   "source": [
    "@func_to_container_op(base_image=IMAGE)\n",
    "def table_op(gcs_uri:str) -> NamedTuple('MarkdownOutput', [('mlpipeline_ui_metadata', 'UI_metadata')]):\n",
    "    import pip\n",
    "    def install(package):\n",
    "        if hasattr(pip, 'main'):\n",
    "            pip.main(['install', package])\n",
    "        else:\n",
    "            pip._internal.main(['install', package])\n",
    "    install('pandas')\n",
    "    \n",
    "    \n",
    "    import json\n",
    "    from pathlib import Path\n",
    "    import subprocess\n",
    "    import pandas as pd\n",
    "    \n",
    "    x1 = [i for i in range(10)]\n",
    "    x2 = [i for i in range(10,20,1)]\n",
    "    x3 = [i for i in range(0,100,10)]\n",
    "    df_table = pd.DataFrame({'col1': x1, 'col2': x2,'col3': x3 })\n",
    "    table_file = '/roc.csv'\n",
    "    with open(table_file, 'w') as f:\n",
    "        df_table.to_csv(f, columns=['col1', 'col2', 'col3'], header=False, index=False)\n",
    "        \n",
    "    bash_command = f\"gsutil cp {table_file} {gcs_uri}\"\n",
    "    process = subprocess.Popen(bash_command.split(), stdout=subprocess.PIPE)\n",
    "    output, error = process.communicate()\n",
    "    \n",
    "    metadata = {\n",
    "        'outputs': [\n",
    "        {\n",
    "            'type': 'table',\n",
    "            'format': 'csv',\n",
    "            'header': ['col1', 'col2', 'col3'],\n",
    "            'source': f\"{gcs_uri}{table_file}\"\n",
    "        }]\n",
    "    }\n",
    "    \n",
    "    from collections import namedtuple\n",
    "    confusion_matrix_output = namedtuple('ConfusionMatrixOutput', ['mlpipeline_ui_metadata'])\n",
    "    return confusion_matrix_output(json.dumps(metadata))"
   ]
  },
  {
   "cell_type": "code",
   "execution_count": 66,
   "metadata": {},
   "outputs": [],
   "source": [
    "@dsl.pipeline(\n",
    "    name=\"Lightweight pipeline\",\n",
    "    description=\"artifact\"\n",
    ")\n",
    "def pipeline(gcs_uri:str):\n",
    "    task0 = table_op(gcs_uri=gcs_uri)"
   ]
  },
  {
   "cell_type": "code",
   "execution_count": 67,
   "metadata": {},
   "outputs": [
    {
     "data": {
      "text/html": [
       "Experiment link <a href=\"/pipeline/#/experiments/details/49772a1f-2bc5-4593-90c7-2034a01577b1\" target=\"_blank\" >here</a>"
      ],
      "text/plain": [
       "<IPython.core.display.HTML object>"
      ]
     },
     "metadata": {},
     "output_type": "display_data"
    },
    {
     "data": {
      "text/html": [
       "Run link <a href=\"/pipeline/#/runs/details/1df4d417-e649-48a3-ad92-789bad5a7aea\" target=\"_blank\" >here</a>"
      ],
      "text/plain": [
       "<IPython.core.display.HTML object>"
      ]
     },
     "metadata": {},
     "output_type": "display_data"
    }
   ],
   "source": [
    "RUN=\"Artifact-Table\"\n",
    "run_result = client.create_run_from_pipeline_func(pipeline_func=pipeline,\n",
    "                                                  arguments={'gcs_uri' : GCS_URI},\n",
    "                                                  run_name=RUN,\n",
    "                                                  experiment_name=EXPERIMENT,\n",
    "                                                  namespace=NAMESPACE)"
   ]
  },
  {
   "cell_type": "code",
   "execution_count": 68,
   "metadata": {},
   "outputs": [
    {
     "data": {
      "text/plain": [
       "{}"
      ]
     },
     "execution_count": 68,
     "metadata": {},
     "output_type": "execute_result"
    }
   ],
   "source": [
    "client.runs.delete_run(run_result.run_id)"
   ]
  },
  {
   "cell_type": "markdown",
   "metadata": {},
   "source": [
    "## Tensorboard (not completed)"
   ]
  },
  {
   "cell_type": "code",
   "execution_count": 69,
   "metadata": {},
   "outputs": [],
   "source": [
    "import kfp\n",
    "from kfp import dsl, components\n",
    "from easykubeflow import func_to_container_op, Utils\n",
    "from typing import NamedTuple"
   ]
  },
  {
   "cell_type": "code",
   "execution_count": 70,
   "metadata": {},
   "outputs": [],
   "source": [
    "client = kfp.Client()\n",
    "Utils(client)"
   ]
  },
  {
   "cell_type": "code",
   "execution_count": 71,
   "metadata": {},
   "outputs": [],
   "source": [
    "@func_to_container_op(base_image=IMAGE)\n",
    "def tensorboard_op(gcs_uri:str) -> NamedTuple('MarkdownOutput', [('mlpipeline_ui_metadata', 'UI_metadata')]):\n",
    "    import json\n",
    "    \n",
    "    metadata = {\n",
    "        'outputs': [\n",
    "        {\n",
    "            'type': 'tensorboard',\n",
    "            'source': f\"{gcs_uri}/logs\"\n",
    "        }]\n",
    "    }\n",
    "    \n",
    "    from collections import namedtuple\n",
    "    confusion_matrix_output = namedtuple('ConfusionMatrixOutput', ['mlpipeline_ui_metadata'])\n",
    "    return confusion_matrix_output(json.dumps(metadata))"
   ]
  },
  {
   "cell_type": "code",
   "execution_count": 72,
   "metadata": {},
   "outputs": [],
   "source": [
    "@dsl.pipeline(\n",
    "    name=\"Lightweight pipeline\",\n",
    "    description=\"artifact\"\n",
    ")\n",
    "def pipeline(gcs_uri:str):\n",
    "    task0 = tensorboard_op(gcs_uri=gcs_uri)"
   ]
  },
  {
   "cell_type": "code",
   "execution_count": 73,
   "metadata": {},
   "outputs": [
    {
     "data": {
      "text/html": [
       "Experiment link <a href=\"/pipeline/#/experiments/details/49772a1f-2bc5-4593-90c7-2034a01577b1\" target=\"_blank\" >here</a>"
      ],
      "text/plain": [
       "<IPython.core.display.HTML object>"
      ]
     },
     "metadata": {},
     "output_type": "display_data"
    },
    {
     "data": {
      "text/html": [
       "Run link <a href=\"/pipeline/#/runs/details/6f1add40-6e7a-4be3-824d-24b2590625a9\" target=\"_blank\" >here</a>"
      ],
      "text/plain": [
       "<IPython.core.display.HTML object>"
      ]
     },
     "metadata": {},
     "output_type": "display_data"
    }
   ],
   "source": [
    "RUN=\"Artifact-Tensorboard\"\n",
    "run_result = client.create_run_from_pipeline_func(pipeline_func=pipeline,\n",
    "                                                  arguments={'gcs_uri' : GCS_URI},\n",
    "                                                  run_name=RUN,\n",
    "                                                  experiment_name=EXPERIMENT,\n",
    "                                                  namespace=NAMESPACE)"
   ]
  },
  {
   "cell_type": "code",
   "execution_count": 74,
   "metadata": {},
   "outputs": [
    {
     "data": {
      "text/plain": [
       "{}"
      ]
     },
     "execution_count": 74,
     "metadata": {},
     "output_type": "execute_result"
    }
   ],
   "source": [
    "client.runs.delete_run(run_result.run_id)"
   ]
  },
  {
   "cell_type": "markdown",
   "metadata": {},
   "source": [
    "## Static HTML (updating)"
   ]
  },
  {
   "cell_type": "code",
   "execution_count": null,
   "metadata": {},
   "outputs": [],
   "source": []
  },
  {
   "cell_type": "markdown",
   "metadata": {},
   "source": [
    "# Example 4 - Metadata"
   ]
  },
  {
   "cell_type": "code",
   "execution_count": 5,
   "metadata": {},
   "outputs": [
    {
     "name": "stdout",
     "output_type": "stream",
     "text": [
      "🌟\n"
     ]
    }
   ],
   "source": [
    "print('\\U0001F31F')"
   ]
  },
  {
   "cell_type": "code",
   "execution_count": 10,
   "metadata": {},
   "outputs": [
    {
     "name": "stdout",
     "output_type": "stream",
     "text": [
      "Give easykubeflow a 🌟 on github\n",
      "Link to Examples https://github.com/vule24/easykubeflow/tree/master/examples\n"
     ]
    }
   ],
   "source": [
    "    print('Give easykubeflow a \\U0001F31F on github\\nLink to Examples https://github.com/vule24/easykubeflow/tree/master/examples')\n"
   ]
  },
  {
   "cell_type": "code",
   "execution_count": null,
   "metadata": {},
   "outputs": [],
   "source": []
  }
 ],
 "metadata": {
  "kernelspec": {
   "display_name": "Python 3",
   "language": "python",
   "name": "python3"
  },
  "language_info": {
   "codemirror_mode": {
    "name": "ipython",
    "version": 3
   },
   "file_extension": ".py",
   "mimetype": "text/x-python",
   "name": "python",
   "nbconvert_exporter": "python",
   "pygments_lexer": "ipython3",
   "version": "3.6.9"
  }
 },
 "nbformat": 4,
 "nbformat_minor": 4
}
