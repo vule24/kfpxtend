{
 "cells": [
  {
   "cell_type": "code",
   "execution_count": 11,
   "metadata": {},
   "outputs": [],
   "source": [
    "# add your name here. Eg: yourname = 'vult5'\n",
    "yourname = 'vult5'"
   ]
  },
  {
   "cell_type": "markdown",
   "metadata": {},
   "source": [
    "# Example 1 - Lightweight component"
   ]
  },
  {
   "cell_type": "markdown",
   "metadata": {},
   "source": [
    "Lightweight component is just like `dsl.ContainerOp`. <br>\n",
    "The difference is it could transform a python function into a entrypoint for an defined image<br>"
   ]
  },
  {
   "cell_type": "code",
   "execution_count": 2,
   "metadata": {},
   "outputs": [],
   "source": [
    "import kfp\n",
    "from kfp import components, dsl\n",
    "import easykubeflow as ekf"
   ]
  },
  {
   "cell_type": "code",
   "execution_count": 7,
   "metadata": {},
   "outputs": [
    {
     "data": {
      "text/plain": [
       "<easykubeflow.utils.Utils at 0x7f87ce3e37b8>"
      ]
     },
     "execution_count": 7,
     "metadata": {},
     "output_type": "execute_result"
    }
   ],
   "source": [
    "client = kfp.Client()\n",
    "ekf.Utils(client)"
   ]
  },
  {
   "cell_type": "code",
   "execution_count": 3,
   "metadata": {},
   "outputs": [],
   "source": [
    "@components.func_to_container_op\n",
    "def print_op(message):\n",
    "    from datetime import datetime\n",
    "    print(f'{datetime.now()} -- message: {message}')"
   ]
  },
  {
   "cell_type": "markdown",
   "metadata": {},
   "source": [
    "The approach above is not recommended in the restrict internet access environment<br>\n",
    "cause the Kubeflow host would pull the default image that not appear in our Registry<br>\n",
    "To replace default image, we have to do it like this"
   ]
  },
  {
   "cell_type": "code",
   "execution_count": 4,
   "metadata": {},
   "outputs": [],
   "source": [
    "def print_op(message):\n",
    "    from datetime import datetime\n",
    "    print(f'{datetime.now()} -- message: {message}')\n",
    "    \n",
    "print_op = components.func_to_container_op(print_op, base_image='asia.gcr.io/vinid-data-science-np/vu-example/base:1.0.0')"
   ]
  },
  {
   "cell_type": "markdown",
   "metadata": {},
   "source": [
    "To be more straightforward, the `easykubeflow` has the same function but allows<br>\n",
    "you to define the base image in the decorator format"
   ]
  },
  {
   "cell_type": "code",
   "execution_count": 8,
   "metadata": {},
   "outputs": [],
   "source": [
    "@ekf.func_to_container_op(base_image='asia.gcr.io/vinid-data-science-np/vu-example/base:1.0.0')\n",
    "def print_op(message):\n",
    "    from datetime import datetime\n",
    "    print(f'{datetime.now()} -- message: {message}')"
   ]
  },
  {
   "cell_type": "markdown",
   "metadata": {},
   "source": [
    "Now define sample pipeline "
   ]
  },
  {
   "cell_type": "code",
   "execution_count": 10,
   "metadata": {},
   "outputs": [],
   "source": [
    "@dsl.pipeline(\n",
    "    name=\"Sample pipeline\",\n",
    "    description=\"Just a simple test for lightweight components\"\n",
    ")\n",
    "def pipeline(yourname:str):\n",
    "    print_op(yourname)"
   ]
  },
  {
   "cell_type": "code",
   "execution_count": 12,
   "metadata": {},
   "outputs": [],
   "source": [
    "experiment=f'{yourname}-Examples'\n",
    "run='Lightweight Component'"
   ]
  },
  {
   "cell_type": "code",
   "execution_count": 13,
   "metadata": {},
   "outputs": [
    {
     "data": {
      "text/html": [
       "Experiment link <a href=\"/pipeline/#/experiments/details/49772a1f-2bc5-4593-90c7-2034a01577b1\" target=\"_blank\" >here</a>"
      ],
      "text/plain": [
       "<IPython.core.display.HTML object>"
      ]
     },
     "metadata": {},
     "output_type": "display_data"
    },
    {
     "data": {
      "text/html": [
       "Run link <a href=\"/pipeline/#/runs/details/c2058070-d91e-40db-ada3-25536f9c07e4\" target=\"_blank\" >here</a>"
      ],
      "text/plain": [
       "<IPython.core.display.HTML object>"
      ]
     },
     "metadata": {},
     "output_type": "display_data"
    }
   ],
   "source": [
    "run_result = client.create_run_from_pipeline_func(pipeline_func=pipeline,\n",
    "                                                  arguments={'yourname': yourname},\n",
    "                                                  run_name=run,\n",
    "                                                  experiment_name=experiment,\n",
    "                                                  namespace='vult5')"
   ]
  },
  {
   "cell_type": "code",
   "execution_count": 14,
   "metadata": {},
   "outputs": [
    {
     "data": {
      "text/plain": [
       "{}"
      ]
     },
     "execution_count": 14,
     "metadata": {},
     "output_type": "execute_result"
    }
   ],
   "source": [
    "client.runs.delete_run(run_result.run_id)"
   ]
  },
  {
   "cell_type": "markdown",
   "metadata": {},
   "source": [
    "# Example 2 - Recursion"
   ]
  },
  {
   "cell_type": "code",
   "execution_count": null,
   "metadata": {},
   "outputs": [],
   "source": []
  }
 ],
 "metadata": {
  "kernelspec": {
   "display_name": "Python 3",
   "language": "python",
   "name": "python3"
  },
  "language_info": {
   "codemirror_mode": {
    "name": "ipython",
    "version": 3
   },
   "file_extension": ".py",
   "mimetype": "text/x-python",
   "name": "python",
   "nbconvert_exporter": "python",
   "pygments_lexer": "ipython3",
   "version": "3.6.9"
  }
 },
 "nbformat": 4,
 "nbformat_minor": 4
}
